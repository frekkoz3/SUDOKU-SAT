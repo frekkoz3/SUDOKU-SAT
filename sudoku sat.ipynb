{
 "cells": [
  {
   "cell_type": "markdown",
   "metadata": {},
   "source": [
    "# SUDOKU\n",
    "\n",
    "but this time we solve it with a sat solver"
   ]
  },
  {
   "cell_type": "code",
   "execution_count": 251,
   "metadata": {},
   "outputs": [],
   "source": [
    "from z3 import *"
   ]
  },
  {
   "cell_type": "code",
   "execution_count": null,
   "metadata": {},
   "outputs": [
    {
     "name": "stdout",
     "output_type": "stream",
     "text": [
      "[[7, 1, 5, 8, 9, 4, 6, 3, 2],\n",
      " [2, 3, 4, 5, 1, 6, 8, 9, 7],\n",
      " [6, 8, 9, 7, 2, 3, 1, 4, 5],\n",
      " [4, 9, 3, 6, 5, 7, 2, 1, 8],\n",
      " [8, 6, 7, 2, 3, 1, 9, 5, 4],\n",
      " [1, 5, 2, 4, 8, 9, 7, 6, 3],\n",
      " [3, 7, 6, 1, 4, 8, 5, 2, 9],\n",
      " [9, 2, 8, 3, 6, 5, 4, 7, 1],\n",
      " [5, 4, 1, 9, 7, 2, 3, 8, 6]]\n"
     ]
    }
   ],
   "source": [
    "# 9x9 matrix of integer variables\n",
    "X = [ [ Int(\"x_%s_%s\" % (i+1, j+1)) for j in range(9) ]\n",
    "      for i in range(9) ]\n",
    "\n",
    "# each cell contains a value in {1, ..., 9}\n",
    "cells_c  = [ And(1 <= X[i][j], X[i][j] <= 9)\n",
    "             for i in range(9) for j in range(9) ]\n",
    "\n",
    "# each row contains a digit at most once\n",
    "rows_c   = [ Distinct(X[i]) for i in range(9) ]\n",
    "\n",
    "# each column contains a digit at most once\n",
    "cols_c   = [ Distinct([ X[i][j] for i in range(9) ])\n",
    "             for j in range(9) ]\n",
    "\n",
    "# each 3x3 square contains a digit at most once\n",
    "sq_c     = [ Distinct([ X[3*i0 + i][3*j0 + j]\n",
    "                        for i in range(3) for j in range(3) ])\n",
    "             for i0 in range(3) for j0 in range(3) ]\n",
    "\n",
    "sudoku_c = cells_c + rows_c + cols_c + sq_c\n",
    "\n",
    "# sudoku instance, we use '0' for empty cells\n",
    "instance = ((0,0,0,0,9,4,0,3,0),\n",
    "            (0,0,0,5,1,0,0,0,7),\n",
    "            (0,8,9,0,0,0,0,4,0),\n",
    "            (0,0,0,0,0,0,2,0,8),\n",
    "            (0,6,0,2,0,1,0,5,0),\n",
    "            (1,0,2,0,0,0,0,0,0),\n",
    "            (0,7,0,0,0,0,5,2,0),\n",
    "            (9,0,0,0,6,5,0,0,0),\n",
    "            (0,4,0,9,7,0,0,0,0))\n",
    "\n",
    "instance_c = [ If(instance[i][j] == 0,\n",
    "                  True,\n",
    "                  X[i][j] == instance[i][j])\n",
    "               for i in range(9) for j in range(9) ]\n",
    "\n",
    "s = Solver()\n",
    "s.add(sudoku_c + instance_c)\n",
    "if s.check() == sat:\n",
    "    m = s.model()\n",
    "    r = [ [ m.evaluate(X[i][j]) for j in range(9) ]\n",
    "          for i in range(9) ]\n",
    "    print_matrix(r)\n",
    "else:\n",
    "    print (\"failed to solve\")"
   ]
  }
 ],
 "metadata": {
  "kernelspec": {
   "display_name": "Python 3",
   "language": "python",
   "name": "python3"
  },
  "language_info": {
   "codemirror_mode": {
    "name": "ipython",
    "version": 3
   },
   "file_extension": ".py",
   "mimetype": "text/x-python",
   "name": "python",
   "nbconvert_exporter": "python",
   "pygments_lexer": "ipython3",
   "version": "3.12.3"
  }
 },
 "nbformat": 4,
 "nbformat_minor": 2
}
