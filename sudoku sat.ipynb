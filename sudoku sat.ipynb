{
 "cells": [
  {
   "cell_type": "markdown",
   "metadata": {},
   "source": [
    "# SUDOKU\n",
    "\n",
    "but this time we solve it with a sat solver"
   ]
  },
  {
   "cell_type": "code",
   "execution_count": 12,
   "metadata": {},
   "outputs": [],
   "source": [
    "from pysat.formula import *\n",
    "from pysat.solvers import Solver\n",
    "import numpy as np"
   ]
  },
  {
   "cell_type": "markdown",
   "metadata": {},
   "source": [
    "Let's dive into the idea. What are the constraints? How do we define our domain? \n",
    "We will use a 9 x 9 x 9 boolean space representation of the grid. Every cell will be represented as a vectors. \n",
    "In that vector every value is 0 excepted the i-th value that will be 1 and represent the actual value of the cell.\n",
    "\n",
    "Let's make the grid."
   ]
  },
  {
   "cell_type": "code",
   "execution_count": null,
   "metadata": {},
   "outputs": [
    {
     "name": "stdout",
     "output_type": "stream",
     "text": [
      "[Atom('x'), Atom('x'), Atom('x')] [Atom('x'), Atom('x'), Atom('x')] [Atom('x'), Atom('x'), Atom('x')] \n",
      "[Atom('x'), Atom('x'), Atom('x')] [Atom('x'), Atom('x'), Atom('x')] [Atom('x'), Atom('x'), Atom('x')] \n",
      "[Atom('x'), Atom('x'), Atom('x')] [Atom('x'), Atom('x'), Atom('x')] [Atom('x'), Atom('x'), Atom('x')] \n"
     ]
    }
   ],
   "source": [
    "I = [i for i in range (3)] # rows\n",
    "J = [j for j in range (3)] # columns\n",
    "V = [v for v in range (3)] # values\n",
    "grid = [[[Atom('x') for v in V ]for j in J] for i in I]\n"
   ]
  }
 ],
 "metadata": {
  "kernelspec": {
   "display_name": "base",
   "language": "python",
   "name": "python3"
  },
  "language_info": {
   "codemirror_mode": {
    "name": "ipython",
    "version": 3
   },
   "file_extension": ".py",
   "mimetype": "text/x-python",
   "name": "python",
   "nbconvert_exporter": "python",
   "pygments_lexer": "ipython3",
   "version": "3.9.13"
  }
 },
 "nbformat": 4,
 "nbformat_minor": 2
}
