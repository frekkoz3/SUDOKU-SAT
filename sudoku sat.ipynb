{
 "cells": [
  {
   "cell_type": "markdown",
   "metadata": {},
   "source": [
    "# SUDOKU\n",
    "\n",
    "but this time we solve it with a sat solver"
   ]
  },
  {
   "cell_type": "code",
   "execution_count": 4,
   "metadata": {},
   "outputs": [],
   "source": [
    "from pysat.formula import *\n",
    "from pysat.solvers import Solver\n",
    "import numpy as np"
   ]
  },
  {
   "cell_type": "markdown",
   "metadata": {},
   "source": [
    "Let's dive into the idea. What are the constraints? How do we define our domain? \n",
    "We will use a 9 x 9 x 9 boolean space representation of the grid. Every cell will be represented as a vectors. \n",
    "In that vector every value is 0 excepted the i-th value that will be 1 and represent the actual value of the cell.\n",
    "\n",
    "Let's make the grid."
   ]
  },
  {
   "cell_type": "code",
   "execution_count": 5,
   "metadata": {},
   "outputs": [],
   "source": [
    "I = [i for i in range (3)] # rows\n",
    "J = [j for j in range (3)] # columns\n",
    "V = [v for v in range (3)] # values\n",
    "grid = np.array([[[Atom(f'{i+1}_{j+1}_{v+1}') for v in V ]for j in J] for i in I]) "
   ]
  },
  {
   "cell_type": "code",
   "execution_count": 41,
   "metadata": {},
   "outputs": [],
   "source": [
    "def exclusivity_in_a_set(set_t):\n",
    "    total_formula = []\n",
    "    for var in set_t:\n",
    "        formula = []\n",
    "        for oth_var in set_t:\n",
    "            if var != oth_var:\n",
    "                formula.append(And(var, Neg(oth_var)))\n",
    "    print(Or(formula for formula in total_formula))\n",
    "    return Or(formula for formula in total_formula)"
   ]
  },
  {
   "cell_type": "code",
   "execution_count": 42,
   "metadata": {},
   "outputs": [
    {
     "ename": "AttributeError",
     "evalue": "'generator' object has no attribute 'type'",
     "output_type": "error",
     "traceback": [
      "\u001b[1;31m---------------------------------------------------------------------------\u001b[0m",
      "\u001b[1;31mAttributeError\u001b[0m                            Traceback (most recent call last)",
      "Cell \u001b[1;32mIn[42], line 2\u001b[0m\n\u001b[0;32m      1\u001b[0m a,b,c \u001b[38;5;241m=\u001b[39m Atom(\u001b[38;5;124m'\u001b[39m\u001b[38;5;124ma\u001b[39m\u001b[38;5;124m'\u001b[39m), Atom(\u001b[38;5;124m'\u001b[39m\u001b[38;5;124mb\u001b[39m\u001b[38;5;124m'\u001b[39m), Atom(\u001b[38;5;124m'\u001b[39m\u001b[38;5;124mc\u001b[39m\u001b[38;5;124m'\u001b[39m)\n\u001b[1;32m----> 2\u001b[0m formula \u001b[38;5;241m=\u001b[39m \u001b[43mexclusivity_in_a_set\u001b[49m\u001b[43m(\u001b[49m\u001b[43m[\u001b[49m\u001b[43ma\u001b[49m\u001b[43m,\u001b[49m\u001b[43m \u001b[49m\u001b[43mb\u001b[49m\u001b[43m,\u001b[49m\u001b[43m \u001b[49m\u001b[43mc\u001b[49m\u001b[43m]\u001b[49m\u001b[43m)\u001b[49m\n\u001b[0;32m      3\u001b[0m \u001b[38;5;28mprint\u001b[39m(formula)\n",
      "Cell \u001b[1;32mIn[41], line 8\u001b[0m, in \u001b[0;36mexclusivity_in_a_set\u001b[1;34m(set_t)\u001b[0m\n\u001b[0;32m      6\u001b[0m         \u001b[38;5;28;01mif\u001b[39;00m var \u001b[38;5;241m!=\u001b[39m oth_var:\n\u001b[0;32m      7\u001b[0m             formula\u001b[38;5;241m.\u001b[39mappend(And(var, Neg(oth_var)))\n\u001b[1;32m----> 8\u001b[0m \u001b[38;5;28;43mprint\u001b[39;49m\u001b[43m(\u001b[49m\u001b[43mOr\u001b[49m\u001b[43m(\u001b[49m\u001b[43mformula\u001b[49m\u001b[43m \u001b[49m\u001b[38;5;28;43;01mfor\u001b[39;49;00m\u001b[43m \u001b[49m\u001b[43mformula\u001b[49m\u001b[43m \u001b[49m\u001b[38;5;129;43;01min\u001b[39;49;00m\u001b[43m \u001b[49m\u001b[43mtotal_formula\u001b[49m\u001b[43m)\u001b[49m\u001b[43m)\u001b[49m\n\u001b[0;32m      9\u001b[0m \u001b[38;5;28;01mreturn\u001b[39;00m Or(formula \u001b[38;5;28;01mfor\u001b[39;00m formula \u001b[38;5;129;01min\u001b[39;00m total_formula)\n",
      "File \u001b[1;32mc:\\Users\\39346\\AppData\\Local\\Programs\\Python\\Python312\\Lib\\site-packages\\pysat\\formula.py:1889\u001b[0m, in \u001b[0;36mOr.__str__\u001b[1;34m(self)\u001b[0m\n\u001b[0;32m   1882\u001b[0m \u001b[38;5;28;01mdef\u001b[39;00m \u001b[38;5;21m__str__\u001b[39m(\u001b[38;5;28mself\u001b[39m):\n\u001b[0;32m   1883\u001b[0m \u001b[38;5;250m    \u001b[39m\u001b[38;5;124;03m\"\"\"\u001b[39;00m\n\u001b[0;32m   1884\u001b[0m \u001b[38;5;124;03m        Informal representation of the ``Or`` formula. Returns a string\u001b[39;00m\n\u001b[0;32m   1885\u001b[0m \u001b[38;5;124;03m        representations of the underlying subformulas joined with ``' |\u001b[39;00m\n\u001b[0;32m   1886\u001b[0m \u001b[38;5;124;03m        '``.\u001b[39;00m\n\u001b[0;32m   1887\u001b[0m \u001b[38;5;124;03m    \"\"\"\u001b[39;00m\n\u001b[1;32m-> 1889\u001b[0m     \u001b[38;5;28;01mreturn\u001b[39;00m \u001b[38;5;124m'\u001b[39m\u001b[38;5;124m | \u001b[39m\u001b[38;5;124m'\u001b[39m\u001b[38;5;241m.\u001b[39mjoin([\u001b[38;5;124mf\u001b[39m\u001b[38;5;124m'\u001b[39m\u001b[38;5;132;01m{\u001b[39;00m\u001b[38;5;28mstr\u001b[39m(sub)\u001b[38;5;132;01m}\u001b[39;00m\u001b[38;5;124m'\u001b[39m \u001b[38;5;28;01mif\u001b[39;00m \u001b[43msub\u001b[49m\u001b[38;5;241;43m.\u001b[39;49m\u001b[43mtype\u001b[49m \u001b[38;5;129;01min\u001b[39;00m (FormulaType\u001b[38;5;241m.\u001b[39mATOM, FormulaType\u001b[38;5;241m.\u001b[39mNEG) \u001b[38;5;28;01melse\u001b[39;00m \u001b[38;5;124mf\u001b[39m\u001b[38;5;124m'\u001b[39m\u001b[38;5;124m(\u001b[39m\u001b[38;5;132;01m{\u001b[39;00m\u001b[38;5;28mstr\u001b[39m(sub)\u001b[38;5;132;01m}\u001b[39;00m\u001b[38;5;124m)\u001b[39m\u001b[38;5;124m'\u001b[39m \u001b[38;5;28;01mfor\u001b[39;00m sub \u001b[38;5;129;01min\u001b[39;00m \u001b[38;5;28mself\u001b[39m\u001b[38;5;241m.\u001b[39msubformulas])\n",
      "\u001b[1;31mAttributeError\u001b[0m: 'generator' object has no attribute 'type'"
     ]
    }
   ],
   "source": [
    "a,b,c = Atom('a'), Atom('b'), Atom('c')\n",
    "formula = exclusivity_in_a_set([a, b, c])\n",
    "print(formula)"
   ]
  },
  {
   "cell_type": "code",
   "execution_count": 8,
   "metadata": {},
   "outputs": [
    {
     "name": "stderr",
     "output_type": "stream",
     "text": [
      "c:\\Users\\39346\\AppData\\Local\\Programs\\Python\\Python312\\Lib\\site-packages\\pysat\\formula.py:11: SyntaxWarning: invalid escape sequence '\\m'\n",
      "  \"\"\"\n",
      "c:\\Users\\39346\\AppData\\Local\\Programs\\Python\\Python312\\Lib\\site-packages\\pysat\\formula.py:1451: SyntaxWarning: invalid escape sequence '\\i'\n",
      "  \"\"\"\n",
      "c:\\Users\\39346\\AppData\\Local\\Programs\\Python\\Python312\\Lib\\site-packages\\pysat\\formula.py:1607: SyntaxWarning: invalid escape sequence '\\e'\n",
      "  \"\"\"\n",
      "c:\\Users\\39346\\AppData\\Local\\Programs\\Python\\Python312\\Lib\\site-packages\\pysat\\formula.py:1673: SyntaxWarning: invalid escape sequence '\\i'\n",
      "  \"\"\"\n",
      "c:\\Users\\39346\\AppData\\Local\\Programs\\Python\\Python312\\Lib\\site-packages\\pysat\\formula.py:1829: SyntaxWarning: invalid escape sequence '\\e'\n",
      "  \"\"\"\n",
      "c:\\Users\\39346\\AppData\\Local\\Programs\\Python\\Python312\\Lib\\site-packages\\pysat\\formula.py:2161: SyntaxWarning: invalid escape sequence '\\l'\n",
      "  \"\"\"\n",
      "c:\\Users\\39346\\AppData\\Local\\Programs\\Python\\Python312\\Lib\\site-packages\\pysat\\formula.py:2223: SyntaxWarning: invalid escape sequence '\\i'\n",
      "  \"\"\"\n",
      "c:\\Users\\39346\\AppData\\Local\\Programs\\Python\\Python312\\Lib\\site-packages\\pysat\\formula.py:2402: SyntaxWarning: invalid escape sequence '\\l'\n",
      "  \"\"\"\n",
      "c:\\Users\\39346\\AppData\\Local\\Programs\\Python\\Python312\\Lib\\site-packages\\pysat\\formula.py:2469: SyntaxWarning: invalid escape sequence '\\i'\n",
      "  \"\"\"\n",
      "c:\\Users\\39346\\AppData\\Local\\Programs\\Python\\Python312\\Lib\\site-packages\\pysat\\formula.py:2747: SyntaxWarning: invalid escape sequence '\\l'\n",
      "  \"\"\"\n",
      "c:\\Users\\39346\\AppData\\Local\\Programs\\Python\\Python312\\Lib\\site-packages\\pysat\\formula.py:2882: SyntaxWarning: invalid escape sequence '\\l'\n",
      "  \"\"\"\n",
      "c:\\Users\\39346\\AppData\\Local\\Programs\\Python\\Python312\\Lib\\site-packages\\pysat\\formula.py:3576: SyntaxWarning: invalid escape sequence '\\m'\n",
      "  \"\"\"\n",
      "c:\\Users\\39346\\AppData\\Local\\Programs\\Python\\Python312\\Lib\\site-packages\\pysat\\formula.py:4328: SyntaxWarning: invalid escape sequence '\\s'\n",
      "  \"\"\"\n",
      "c:\\Users\\39346\\AppData\\Local\\Programs\\Python\\Python312\\Lib\\site-packages\\pysat\\formula.py:4849: SyntaxWarning: invalid escape sequence '\\s'\n",
      "  \"\"\"\n"
     ]
    },
    {
     "ename": "AttributeError",
     "evalue": "'list' object has no attribute '_clausify'",
     "output_type": "error",
     "traceback": [
      "\u001b[1;31m---------------------------------------------------------------------------\u001b[0m",
      "\u001b[1;31mAttributeError\u001b[0m                            Traceback (most recent call last)",
      "Cell \u001b[1;32mIn[8], line 2\u001b[0m\n\u001b[0;32m      1\u001b[0m \u001b[38;5;28;01mwith\u001b[39;00m Solver(name\u001b[38;5;241m=\u001b[39m\u001b[38;5;124m'\u001b[39m\u001b[38;5;124mg3\u001b[39m\u001b[38;5;124m'\u001b[39m) \u001b[38;5;28;01mas\u001b[39;00m solver:\n\u001b[1;32m----> 2\u001b[0m     solver\u001b[38;5;241m.\u001b[39mappend_formula(\u001b[43m[\u001b[49m\u001b[43mc\u001b[49m\u001b[43m \u001b[49m\u001b[38;5;28;43;01mfor\u001b[39;49;00m\u001b[43m \u001b[49m\u001b[43mc\u001b[49m\u001b[43m \u001b[49m\u001b[38;5;129;43;01min\u001b[39;49;00m\u001b[43m \u001b[49m\u001b[43mformula\u001b[49m\u001b[43m]\u001b[49m)\n\u001b[0;32m      3\u001b[0m     \u001b[38;5;28;01mif\u001b[39;00m solver\u001b[38;5;241m.\u001b[39msolve():\n\u001b[0;32m      4\u001b[0m         \u001b[38;5;28mprint\u001b[39m(\u001b[38;5;124m\"\u001b[39m\u001b[38;5;124mSAT\u001b[39m\u001b[38;5;124m\"\u001b[39m)\n",
      "File \u001b[1;32mc:\\Users\\39346\\AppData\\Local\\Programs\\Python\\Python312\\Lib\\site-packages\\pysat\\formula.py:1159\u001b[0m, in \u001b[0;36mFormula.__iter__\u001b[1;34m(self)\u001b[0m\n\u001b[0;32m   1133\u001b[0m \u001b[38;5;250m\u001b[39m\u001b[38;5;124;03m\"\"\"\u001b[39;00m\n\u001b[0;32m   1134\u001b[0m \u001b[38;5;124;03m    Implements an iterator over all clauses of the formula. As the\u001b[39;00m\n\u001b[0;32m   1135\u001b[0m \u001b[38;5;124;03m    clauses are stored not only in ``self`` but also in its\u001b[39;00m\n\u001b[1;32m   (...)\u001b[0m\n\u001b[0;32m   1155\u001b[0m \u001b[38;5;124;03m        {1: Atom('x'), 2: Atom('y'), 3: Equals[Atom('x'), Atom('y')], 4: Atom('z')}\u001b[39;00m\n\u001b[0;32m   1156\u001b[0m \u001b[38;5;124;03m\"\"\"\u001b[39;00m\n\u001b[0;32m   1158\u001b[0m \u001b[38;5;66;03m# first, make sure there is a clausal representation\u001b[39;00m\n\u001b[1;32m-> 1159\u001b[0m \u001b[38;5;28;43mself\u001b[39;49m\u001b[38;5;241;43m.\u001b[39;49m\u001b[43mclausify\u001b[49m\u001b[43m(\u001b[49m\u001b[43m)\u001b[49m\n\u001b[0;32m   1161\u001b[0m \u001b[38;5;66;03m# then recursively iterate through the clauses\u001b[39;00m\n\u001b[0;32m   1162\u001b[0m \u001b[38;5;28;01mfor\u001b[39;00m cl \u001b[38;5;129;01min\u001b[39;00m \u001b[38;5;28mself\u001b[39m\u001b[38;5;241m.\u001b[39m_iter(outermost\u001b[38;5;241m=\u001b[39m\u001b[38;5;28;01mTrue\u001b[39;00m):\n",
      "File \u001b[1;32mc:\\Users\\39346\\AppData\\Local\\Programs\\Python\\Python312\\Lib\\site-packages\\pysat\\formula.py:1189\u001b[0m, in \u001b[0;36mFormula.clausify\u001b[1;34m(self)\u001b[0m\n\u001b[0;32m   1165\u001b[0m \u001b[38;5;28;01mdef\u001b[39;00m \u001b[38;5;21mclausify\u001b[39m(\u001b[38;5;28mself\u001b[39m):\n\u001b[0;32m   1166\u001b[0m \u001b[38;5;250m    \u001b[39m\u001b[38;5;124;03m\"\"\"\u001b[39;00m\n\u001b[0;32m   1167\u001b[0m \u001b[38;5;124;03m        This method applies Tseitin transformation to the formula.\u001b[39;00m\n\u001b[0;32m   1168\u001b[0m \u001b[38;5;124;03m        Recursively gives all the formulas Boolean names accordingly and\u001b[39;00m\n\u001b[1;32m   (...)\u001b[0m\n\u001b[0;32m   1186\u001b[0m \u001b[38;5;124;03m            [[3, 4]]  # 4 corresponds to z while 3 represents the equality x @ y\u001b[39;00m\n\u001b[0;32m   1187\u001b[0m \u001b[38;5;124;03m    \"\"\"\u001b[39;00m\n\u001b[1;32m-> 1189\u001b[0m     \u001b[38;5;28;43mself\u001b[39;49m\u001b[38;5;241;43m.\u001b[39;49m\u001b[43m_clausify\u001b[49m\u001b[43m(\u001b[49m\u001b[43mname_required\u001b[49m\u001b[38;5;241;43m=\u001b[39;49m\u001b[38;5;28;43;01mFalse\u001b[39;49;00m\u001b[43m)\u001b[49m\n",
      "File \u001b[1;32mc:\\Users\\39346\\AppData\\Local\\Programs\\Python\\Python312\\Lib\\site-packages\\pysat\\formula.py:1853\u001b[0m, in \u001b[0;36mOr._clausify\u001b[1;34m(self, name_required)\u001b[0m\n\u001b[0;32m   1851\u001b[0m \u001b[38;5;28mself\u001b[39m\u001b[38;5;241m.\u001b[39mclauses\u001b[38;5;241m.\u001b[39mappend([])  \u001b[38;5;66;03m# empty clause, to be filled out\u001b[39;00m\n\u001b[0;32m   1852\u001b[0m \u001b[38;5;28;01mfor\u001b[39;00m sub \u001b[38;5;129;01min\u001b[39;00m \u001b[38;5;28mself\u001b[39m\u001b[38;5;241m.\u001b[39msubformulas:\n\u001b[1;32m-> 1853\u001b[0m     \u001b[43msub\u001b[49m\u001b[38;5;241;43m.\u001b[39;49m\u001b[43m_clausify\u001b[49m(name_required\u001b[38;5;241m=\u001b[39m\u001b[38;5;28;01mTrue\u001b[39;00m)\n\u001b[0;32m   1855\u001b[0m     \u001b[38;5;66;03m# adding operand names to the clause\u001b[39;00m\n\u001b[0;32m   1856\u001b[0m     \u001b[38;5;28mself\u001b[39m\u001b[38;5;241m.\u001b[39mclauses[\u001b[38;5;241m0\u001b[39m]\u001b[38;5;241m.\u001b[39mappend(sub\u001b[38;5;241m.\u001b[39mname)\n",
      "\u001b[1;31mAttributeError\u001b[0m: 'list' object has no attribute '_clausify'"
     ]
    }
   ],
   "source": [
    "with Solver(name='g3') as solver:\n",
    "    solver.append_formula([c for c in formula])\n",
    "    if solver.solve():\n",
    "        print(\"SAT\")\n",
    "        model = solver.get_model()\n",
    "        idp = Formula.export_vpool().id2obj\n",
    "        for k in model:\n",
    "            if k > 0:\n",
    "                print(f'{id(k)} {abs(k)}')\n",
    "            else:\n",
    "                print(f'O')\n",
    "    else:\n",
    "        print(\"UNSAT\")"
   ]
  }
 ],
 "metadata": {
  "kernelspec": {
   "display_name": "Python 3",
   "language": "python",
   "name": "python3"
  },
  "language_info": {
   "codemirror_mode": {
    "name": "ipython",
    "version": 3
   },
   "file_extension": ".py",
   "mimetype": "text/x-python",
   "name": "python",
   "nbconvert_exporter": "python",
   "pygments_lexer": "ipython3",
   "version": "3.12.3"
  }
 },
 "nbformat": 4,
 "nbformat_minor": 2
}
